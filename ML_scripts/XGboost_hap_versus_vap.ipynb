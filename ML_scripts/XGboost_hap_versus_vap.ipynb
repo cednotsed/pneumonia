{
 "cells": [
  {
   "cell_type": "markdown",
   "metadata": {},
   "source": [
    "# Binary classifier to predict HAP versus VAP"
   ]
  },
  {
   "cell_type": "code",
   "execution_count": 1,
   "metadata": {},
   "outputs": [
    {
     "name": "stdout",
     "output_type": "stream",
     "text": [
      "/mnt/c/git_repos/pneumonia/ML_scripts\n"
     ]
    },
    {
     "name": "stderr",
     "output_type": "stream",
     "text": [
      "/home/cednotsed/miniconda3/envs/mashin/lib/python3.11/site-packages/tqdm/auto.py:21: TqdmWarning: IProgress not found. Please update jupyter and ipywidgets. See https://ipywidgets.readthedocs.io/en/stable/user_install.html\n",
      "  from .autonotebook import tqdm as notebook_tqdm\n"
     ]
    }
   ],
   "source": [
    "# Import Statements\n",
    "import pandas as pd\n",
    "import numpy as np\n",
    "import matplotlib.pyplot as plt\n",
    "from pathlib import Path\n",
    "from xgboost import XGBClassifier\n",
    "import shap\n",
    "from xgboost import XGBClassifier\n",
    "from sklearn.model_selection import RandomizedSearchCV, GridSearchCV, StratifiedKFold, cross_validate\n",
    "from sklearn.metrics import make_scorer, precision_score, recall_score, f1_score, average_precision_score\n",
    "\n",
    "cwd = Path.cwd()\n",
    "print(cwd)\n",
    "datasets = cwd / '../results/tax_classification_out/abundance_matrices'\n",
    "results = cwd / '../results/ML_out'"
   ]
  },
  {
   "cell_type": "markdown",
   "metadata": {},
   "source": [
    "## Data Preprocessing"
   ]
  },
  {
   "cell_type": "markdown",
   "metadata": {},
   "source": [
    "### Load data"
   ]
  },
  {
   "cell_type": "code",
   "execution_count": 54,
   "metadata": {},
   "outputs": [],
   "source": [
    "col_name = 'hap_vap2'\n"
   ]
  },
  {
   "cell_type": "code",
   "execution_count": 55,
   "metadata": {},
   "outputs": [],
   "source": [
    " # Response\n",
    " y = merged_filt.loc[:, col_name].copy()\n",
    "\n",
    " # Features\n",
    " X = merged_filt.loc[:, ~merged_filt.keys().isin(meta.keys())].copy()"
   ]
  },
  {
   "cell_type": "code",
   "execution_count": 60,
   "metadata": {},
   "outputs": [
    {
     "ename": "ValueError",
     "evalue": "invalid literal for int() with base 10: 'V-HAP'",
     "output_type": "error",
     "traceback": [
      "\u001b[0;31m---------------------------------------------------------------------------\u001b[0m",
      "\u001b[0;31mValueError\u001b[0m                                Traceback (most recent call last)",
      "Cell \u001b[0;32mIn[60], line 4\u001b[0m\n\u001b[1;32m      2\u001b[0m y\u001b[38;5;241m.\u001b[39mloc[y \u001b[38;5;241m==\u001b[39m g1] \u001b[38;5;241m=\u001b[39m \u001b[38;5;241m1\u001b[39m\n\u001b[1;32m      3\u001b[0m y\u001b[38;5;241m.\u001b[39mloc[y \u001b[38;5;241m==\u001b[39m g2] \u001b[38;5;241m=\u001b[39m \u001b[38;5;241m0\u001b[39m\n\u001b[0;32m----> 4\u001b[0m y \u001b[38;5;241m=\u001b[39m \u001b[43my\u001b[49m\u001b[38;5;241;43m.\u001b[39;49m\u001b[43mastype\u001b[49m\u001b[43m(\u001b[49m\u001b[38;5;124;43m'\u001b[39;49m\u001b[38;5;124;43mint\u001b[39;49m\u001b[38;5;124;43m'\u001b[39;49m\u001b[43m)\u001b[49m\n",
      "File \u001b[0;32m~/miniconda3/envs/mashin/lib/python3.11/site-packages/pandas/core/generic.py:6640\u001b[0m, in \u001b[0;36mNDFrame.astype\u001b[0;34m(self, dtype, copy, errors)\u001b[0m\n\u001b[1;32m   6634\u001b[0m     results \u001b[38;5;241m=\u001b[39m [\n\u001b[1;32m   6635\u001b[0m         ser\u001b[38;5;241m.\u001b[39mastype(dtype, copy\u001b[38;5;241m=\u001b[39mcopy, errors\u001b[38;5;241m=\u001b[39merrors) \u001b[38;5;28;01mfor\u001b[39;00m _, ser \u001b[38;5;129;01min\u001b[39;00m \u001b[38;5;28mself\u001b[39m\u001b[38;5;241m.\u001b[39mitems()\n\u001b[1;32m   6636\u001b[0m     ]\n\u001b[1;32m   6638\u001b[0m \u001b[38;5;28;01melse\u001b[39;00m:\n\u001b[1;32m   6639\u001b[0m     \u001b[38;5;66;03m# else, only a single dtype is given\u001b[39;00m\n\u001b[0;32m-> 6640\u001b[0m     new_data \u001b[38;5;241m=\u001b[39m \u001b[38;5;28;43mself\u001b[39;49m\u001b[38;5;241;43m.\u001b[39;49m\u001b[43m_mgr\u001b[49m\u001b[38;5;241;43m.\u001b[39;49m\u001b[43mastype\u001b[49m\u001b[43m(\u001b[49m\u001b[43mdtype\u001b[49m\u001b[38;5;241;43m=\u001b[39;49m\u001b[43mdtype\u001b[49m\u001b[43m,\u001b[49m\u001b[43m \u001b[49m\u001b[43mcopy\u001b[49m\u001b[38;5;241;43m=\u001b[39;49m\u001b[43mcopy\u001b[49m\u001b[43m,\u001b[49m\u001b[43m \u001b[49m\u001b[43merrors\u001b[49m\u001b[38;5;241;43m=\u001b[39;49m\u001b[43merrors\u001b[49m\u001b[43m)\u001b[49m\n\u001b[1;32m   6641\u001b[0m     res \u001b[38;5;241m=\u001b[39m \u001b[38;5;28mself\u001b[39m\u001b[38;5;241m.\u001b[39m_constructor_from_mgr(new_data, axes\u001b[38;5;241m=\u001b[39mnew_data\u001b[38;5;241m.\u001b[39maxes)\n\u001b[1;32m   6642\u001b[0m     \u001b[38;5;28;01mreturn\u001b[39;00m res\u001b[38;5;241m.\u001b[39m__finalize__(\u001b[38;5;28mself\u001b[39m, method\u001b[38;5;241m=\u001b[39m\u001b[38;5;124m\"\u001b[39m\u001b[38;5;124mastype\u001b[39m\u001b[38;5;124m\"\u001b[39m)\n",
      "File \u001b[0;32m~/miniconda3/envs/mashin/lib/python3.11/site-packages/pandas/core/internals/managers.py:430\u001b[0m, in \u001b[0;36mBaseBlockManager.astype\u001b[0;34m(self, dtype, copy, errors)\u001b[0m\n\u001b[1;32m    427\u001b[0m \u001b[38;5;28;01melif\u001b[39;00m using_copy_on_write():\n\u001b[1;32m    428\u001b[0m     copy \u001b[38;5;241m=\u001b[39m \u001b[38;5;28;01mFalse\u001b[39;00m\n\u001b[0;32m--> 430\u001b[0m \u001b[38;5;28;01mreturn\u001b[39;00m \u001b[38;5;28;43mself\u001b[39;49m\u001b[38;5;241;43m.\u001b[39;49m\u001b[43mapply\u001b[49m\u001b[43m(\u001b[49m\n\u001b[1;32m    431\u001b[0m \u001b[43m    \u001b[49m\u001b[38;5;124;43m\"\u001b[39;49m\u001b[38;5;124;43mastype\u001b[39;49m\u001b[38;5;124;43m\"\u001b[39;49m\u001b[43m,\u001b[49m\n\u001b[1;32m    432\u001b[0m \u001b[43m    \u001b[49m\u001b[43mdtype\u001b[49m\u001b[38;5;241;43m=\u001b[39;49m\u001b[43mdtype\u001b[49m\u001b[43m,\u001b[49m\n\u001b[1;32m    433\u001b[0m \u001b[43m    \u001b[49m\u001b[43mcopy\u001b[49m\u001b[38;5;241;43m=\u001b[39;49m\u001b[43mcopy\u001b[49m\u001b[43m,\u001b[49m\n\u001b[1;32m    434\u001b[0m \u001b[43m    \u001b[49m\u001b[43merrors\u001b[49m\u001b[38;5;241;43m=\u001b[39;49m\u001b[43merrors\u001b[49m\u001b[43m,\u001b[49m\n\u001b[1;32m    435\u001b[0m \u001b[43m    \u001b[49m\u001b[43musing_cow\u001b[49m\u001b[38;5;241;43m=\u001b[39;49m\u001b[43musing_copy_on_write\u001b[49m\u001b[43m(\u001b[49m\u001b[43m)\u001b[49m\u001b[43m,\u001b[49m\n\u001b[1;32m    436\u001b[0m \u001b[43m\u001b[49m\u001b[43m)\u001b[49m\n",
      "File \u001b[0;32m~/miniconda3/envs/mashin/lib/python3.11/site-packages/pandas/core/internals/managers.py:363\u001b[0m, in \u001b[0;36mBaseBlockManager.apply\u001b[0;34m(self, f, align_keys, **kwargs)\u001b[0m\n\u001b[1;32m    361\u001b[0m         applied \u001b[38;5;241m=\u001b[39m b\u001b[38;5;241m.\u001b[39mapply(f, \u001b[38;5;241m*\u001b[39m\u001b[38;5;241m*\u001b[39mkwargs)\n\u001b[1;32m    362\u001b[0m     \u001b[38;5;28;01melse\u001b[39;00m:\n\u001b[0;32m--> 363\u001b[0m         applied \u001b[38;5;241m=\u001b[39m \u001b[38;5;28;43mgetattr\u001b[39;49m\u001b[43m(\u001b[49m\u001b[43mb\u001b[49m\u001b[43m,\u001b[49m\u001b[43m \u001b[49m\u001b[43mf\u001b[49m\u001b[43m)\u001b[49m\u001b[43m(\u001b[49m\u001b[38;5;241;43m*\u001b[39;49m\u001b[38;5;241;43m*\u001b[39;49m\u001b[43mkwargs\u001b[49m\u001b[43m)\u001b[49m\n\u001b[1;32m    364\u001b[0m     result_blocks \u001b[38;5;241m=\u001b[39m extend_blocks(applied, result_blocks)\n\u001b[1;32m    366\u001b[0m out \u001b[38;5;241m=\u001b[39m \u001b[38;5;28mtype\u001b[39m(\u001b[38;5;28mself\u001b[39m)\u001b[38;5;241m.\u001b[39mfrom_blocks(result_blocks, \u001b[38;5;28mself\u001b[39m\u001b[38;5;241m.\u001b[39maxes)\n",
      "File \u001b[0;32m~/miniconda3/envs/mashin/lib/python3.11/site-packages/pandas/core/internals/blocks.py:758\u001b[0m, in \u001b[0;36mBlock.astype\u001b[0;34m(self, dtype, copy, errors, using_cow, squeeze)\u001b[0m\n\u001b[1;32m    755\u001b[0m         \u001b[38;5;28;01mraise\u001b[39;00m \u001b[38;5;167;01mValueError\u001b[39;00m(\u001b[38;5;124m\"\u001b[39m\u001b[38;5;124mCan not squeeze with more than one column.\u001b[39m\u001b[38;5;124m\"\u001b[39m)\n\u001b[1;32m    756\u001b[0m     values \u001b[38;5;241m=\u001b[39m values[\u001b[38;5;241m0\u001b[39m, :]  \u001b[38;5;66;03m# type: ignore[call-overload]\u001b[39;00m\n\u001b[0;32m--> 758\u001b[0m new_values \u001b[38;5;241m=\u001b[39m \u001b[43mastype_array_safe\u001b[49m\u001b[43m(\u001b[49m\u001b[43mvalues\u001b[49m\u001b[43m,\u001b[49m\u001b[43m \u001b[49m\u001b[43mdtype\u001b[49m\u001b[43m,\u001b[49m\u001b[43m \u001b[49m\u001b[43mcopy\u001b[49m\u001b[38;5;241;43m=\u001b[39;49m\u001b[43mcopy\u001b[49m\u001b[43m,\u001b[49m\u001b[43m \u001b[49m\u001b[43merrors\u001b[49m\u001b[38;5;241;43m=\u001b[39;49m\u001b[43merrors\u001b[49m\u001b[43m)\u001b[49m\n\u001b[1;32m    760\u001b[0m new_values \u001b[38;5;241m=\u001b[39m maybe_coerce_values(new_values)\n\u001b[1;32m    762\u001b[0m refs \u001b[38;5;241m=\u001b[39m \u001b[38;5;28;01mNone\u001b[39;00m\n",
      "File \u001b[0;32m~/miniconda3/envs/mashin/lib/python3.11/site-packages/pandas/core/dtypes/astype.py:237\u001b[0m, in \u001b[0;36mastype_array_safe\u001b[0;34m(values, dtype, copy, errors)\u001b[0m\n\u001b[1;32m    234\u001b[0m     dtype \u001b[38;5;241m=\u001b[39m dtype\u001b[38;5;241m.\u001b[39mnumpy_dtype\n\u001b[1;32m    236\u001b[0m \u001b[38;5;28;01mtry\u001b[39;00m:\n\u001b[0;32m--> 237\u001b[0m     new_values \u001b[38;5;241m=\u001b[39m \u001b[43mastype_array\u001b[49m\u001b[43m(\u001b[49m\u001b[43mvalues\u001b[49m\u001b[43m,\u001b[49m\u001b[43m \u001b[49m\u001b[43mdtype\u001b[49m\u001b[43m,\u001b[49m\u001b[43m \u001b[49m\u001b[43mcopy\u001b[49m\u001b[38;5;241;43m=\u001b[39;49m\u001b[43mcopy\u001b[49m\u001b[43m)\u001b[49m\n\u001b[1;32m    238\u001b[0m \u001b[38;5;28;01mexcept\u001b[39;00m (\u001b[38;5;167;01mValueError\u001b[39;00m, \u001b[38;5;167;01mTypeError\u001b[39;00m):\n\u001b[1;32m    239\u001b[0m     \u001b[38;5;66;03m# e.g. _astype_nansafe can fail on object-dtype of strings\u001b[39;00m\n\u001b[1;32m    240\u001b[0m     \u001b[38;5;66;03m#  trying to convert to float\u001b[39;00m\n\u001b[1;32m    241\u001b[0m     \u001b[38;5;28;01mif\u001b[39;00m errors \u001b[38;5;241m==\u001b[39m \u001b[38;5;124m\"\u001b[39m\u001b[38;5;124mignore\u001b[39m\u001b[38;5;124m\"\u001b[39m:\n",
      "File \u001b[0;32m~/miniconda3/envs/mashin/lib/python3.11/site-packages/pandas/core/dtypes/astype.py:182\u001b[0m, in \u001b[0;36mastype_array\u001b[0;34m(values, dtype, copy)\u001b[0m\n\u001b[1;32m    179\u001b[0m     values \u001b[38;5;241m=\u001b[39m values\u001b[38;5;241m.\u001b[39mastype(dtype, copy\u001b[38;5;241m=\u001b[39mcopy)\n\u001b[1;32m    181\u001b[0m \u001b[38;5;28;01melse\u001b[39;00m:\n\u001b[0;32m--> 182\u001b[0m     values \u001b[38;5;241m=\u001b[39m \u001b[43m_astype_nansafe\u001b[49m\u001b[43m(\u001b[49m\u001b[43mvalues\u001b[49m\u001b[43m,\u001b[49m\u001b[43m \u001b[49m\u001b[43mdtype\u001b[49m\u001b[43m,\u001b[49m\u001b[43m \u001b[49m\u001b[43mcopy\u001b[49m\u001b[38;5;241;43m=\u001b[39;49m\u001b[43mcopy\u001b[49m\u001b[43m)\u001b[49m\n\u001b[1;32m    184\u001b[0m \u001b[38;5;66;03m# in pandas we don't store numpy str dtypes, so convert to object\u001b[39;00m\n\u001b[1;32m    185\u001b[0m \u001b[38;5;28;01mif\u001b[39;00m \u001b[38;5;28misinstance\u001b[39m(dtype, np\u001b[38;5;241m.\u001b[39mdtype) \u001b[38;5;129;01mand\u001b[39;00m \u001b[38;5;28missubclass\u001b[39m(values\u001b[38;5;241m.\u001b[39mdtype\u001b[38;5;241m.\u001b[39mtype, \u001b[38;5;28mstr\u001b[39m):\n",
      "File \u001b[0;32m~/miniconda3/envs/mashin/lib/python3.11/site-packages/pandas/core/dtypes/astype.py:133\u001b[0m, in \u001b[0;36m_astype_nansafe\u001b[0;34m(arr, dtype, copy, skipna)\u001b[0m\n\u001b[1;32m    129\u001b[0m     \u001b[38;5;28;01mraise\u001b[39;00m \u001b[38;5;167;01mValueError\u001b[39;00m(msg)\n\u001b[1;32m    131\u001b[0m \u001b[38;5;28;01mif\u001b[39;00m copy \u001b[38;5;129;01mor\u001b[39;00m arr\u001b[38;5;241m.\u001b[39mdtype \u001b[38;5;241m==\u001b[39m \u001b[38;5;28mobject\u001b[39m \u001b[38;5;129;01mor\u001b[39;00m dtype \u001b[38;5;241m==\u001b[39m \u001b[38;5;28mobject\u001b[39m:\n\u001b[1;32m    132\u001b[0m     \u001b[38;5;66;03m# Explicit copy, or required since NumPy can't view from / to object.\u001b[39;00m\n\u001b[0;32m--> 133\u001b[0m     \u001b[38;5;28;01mreturn\u001b[39;00m \u001b[43marr\u001b[49m\u001b[38;5;241;43m.\u001b[39;49m\u001b[43mastype\u001b[49m\u001b[43m(\u001b[49m\u001b[43mdtype\u001b[49m\u001b[43m,\u001b[49m\u001b[43m \u001b[49m\u001b[43mcopy\u001b[49m\u001b[38;5;241;43m=\u001b[39;49m\u001b[38;5;28;43;01mTrue\u001b[39;49;00m\u001b[43m)\u001b[49m\n\u001b[1;32m    135\u001b[0m \u001b[38;5;28;01mreturn\u001b[39;00m arr\u001b[38;5;241m.\u001b[39mastype(dtype, copy\u001b[38;5;241m=\u001b[39mcopy)\n",
      "\u001b[0;31mValueError\u001b[0m: invalid literal for int() with base 10: 'V-HAP'"
     ]
    }
   ],
   "source": [
    " # Binary encode y\n",
    " y.loc[y == g1] = 1\n",
    " y.loc[y == g2] = 0\n",
    " y = y.astype('int')"
   ]
  },
  {
   "cell_type": "code",
   "execution_count": 58,
   "metadata": {},
   "outputs": [],
   "source": [
    " pos = len(y[y == 1])\n",
    " neg = len(y[y == 0])\n",
    " split_sizes = pd.DataFrame({g1: [pos - int(pos / n_splits), int(pos / n_splits)],\n",
    "                             g2: [neg - int(neg / n_splits), int(neg / n_splits)]}, index=['Train fold', 'Test fold']) "
   ]
  },
  {
   "cell_type": "code",
   "execution_count": 59,
   "metadata": {},
   "outputs": [
    {
     "data": {
      "text/html": [
       "<div>\n",
       "<style scoped>\n",
       "    .dataframe tbody tr th:only-of-type {\n",
       "        vertical-align: middle;\n",
       "    }\n",
       "\n",
       "    .dataframe tbody tr th {\n",
       "        vertical-align: top;\n",
       "    }\n",
       "\n",
       "    .dataframe thead th {\n",
       "        text-align: right;\n",
       "    }\n",
       "</style>\n",
       "<table border=\"1\" class=\"dataframe\">\n",
       "  <thead>\n",
       "    <tr style=\"text-align: right;\">\n",
       "      <th></th>\n",
       "      <th>HAP</th>\n",
       "      <th>VAP</th>\n",
       "    </tr>\n",
       "  </thead>\n",
       "  <tbody>\n",
       "    <tr>\n",
       "      <th>Train fold</th>\n",
       "      <td>0</td>\n",
       "      <td>0</td>\n",
       "    </tr>\n",
       "    <tr>\n",
       "      <th>Test fold</th>\n",
       "      <td>0</td>\n",
       "      <td>0</td>\n",
       "    </tr>\n",
       "  </tbody>\n",
       "</table>\n",
       "</div>"
      ],
      "text/plain": [
       "            HAP  VAP\n",
       "Train fold    0    0\n",
       "Test fold     0    0"
      ]
     },
     "execution_count": 59,
     "metadata": {},
     "output_type": "execute_result"
    }
   ],
   "source": [
    "split_sizes"
   ]
  },
  {
   "cell_type": "code",
   "execution_count": 66,
   "metadata": {
    "scrolled": true
   },
   "outputs": [
    {
     "data": {
      "text/plain": [
       "hap_vap2\n",
       "VAP              148\n",
       "NV-HAP            56\n",
       "V-HAP             52\n",
       "Water control     48\n",
       "Name: count, dtype: int64"
      ]
     },
     "execution_count": 66,
     "metadata": {},
     "output_type": "execute_result"
    }
   ],
   "source": [
    "meta.hap_vap2.value_counts()\n",
    "# meta.hap_vap_cap.value_counts()"
   ]
  },
  {
   "cell_type": "code",
   "execution_count": 56,
   "metadata": {},
   "outputs": [],
   "source": [
    " raw_df = pd.read_csv(datasets / f'RA.G.zeroed.decontam.{threshold}.csv')\n",
    " meta = pd.read_csv(cwd / \"../data/metadata/parsed_patient_metadata.filt.csv\")\n",
    "\n",
    " merged_df = raw_df.merge(meta, on='run_id', how='left')\n",
    " merged_filt = merged_df.loc[merged_df[col_name].isin([g1, g2]), :]"
   ]
  },
  {
   "cell_type": "code",
   "execution_count": 57,
   "metadata": {},
   "outputs": [
    {
     "data": {
      "text/html": [
       "<div>\n",
       "<style scoped>\n",
       "    .dataframe tbody tr th:only-of-type {\n",
       "        vertical-align: middle;\n",
       "    }\n",
       "\n",
       "    .dataframe tbody tr th {\n",
       "        vertical-align: top;\n",
       "    }\n",
       "\n",
       "    .dataframe thead th {\n",
       "        text-align: right;\n",
       "    }\n",
       "</style>\n",
       "<table border=\"1\" class=\"dataframe\">\n",
       "  <thead>\n",
       "    <tr style=\"text-align: right;\">\n",
       "      <th></th>\n",
       "      <th>run_id</th>\n",
       "      <th>Pseudomonas</th>\n",
       "      <th>Corynebacterium</th>\n",
       "      <th>Streptococcus</th>\n",
       "      <th>Serratia</th>\n",
       "      <th>Klebsiella</th>\n",
       "      <th>Salmonella</th>\n",
       "      <th>Stenotrophomonas</th>\n",
       "      <th>Alcaligenes</th>\n",
       "      <th>Haemophilus</th>\n",
       "      <th>...</th>\n",
       "      <th>curetis_validity</th>\n",
       "      <th>curetis_organism</th>\n",
       "      <th>curetis_resistance</th>\n",
       "      <th>hap_vap2</th>\n",
       "      <th>ventilation</th>\n",
       "      <th>n_reads</th>\n",
       "      <th>median_read_length</th>\n",
       "      <th>sdev_read_length</th>\n",
       "      <th>microbial_reads</th>\n",
       "      <th>high_microbe_count</th>\n",
       "    </tr>\n",
       "  </thead>\n",
       "  <tbody>\n",
       "    <tr>\n",
       "      <th>0</th>\n",
       "      <td>10_2</td>\n",
       "      <td>0.573426</td>\n",
       "      <td>0.013248</td>\n",
       "      <td>0.413326</td>\n",
       "      <td>0.0</td>\n",
       "      <td>0.000000</td>\n",
       "      <td>0.000000</td>\n",
       "      <td>0.00000</td>\n",
       "      <td>0.00000</td>\n",
       "      <td>0.0</td>\n",
       "      <td>...</td>\n",
       "      <td>Valid</td>\n",
       "      <td>Pseudomonas aeruginosa (+++)</td>\n",
       "      <td>shv</td>\n",
       "      <td>VAP</td>\n",
       "      <td>True</td>\n",
       "      <td>165967</td>\n",
       "      <td>2100.0</td>\n",
       "      <td>745.702017</td>\n",
       "      <td>152597</td>\n",
       "      <td>True</td>\n",
       "    </tr>\n",
       "    <tr>\n",
       "      <th>2</th>\n",
       "      <td>10_4</td>\n",
       "      <td>0.000000</td>\n",
       "      <td>0.000000</td>\n",
       "      <td>0.000000</td>\n",
       "      <td>0.0</td>\n",
       "      <td>0.993836</td>\n",
       "      <td>0.006164</td>\n",
       "      <td>0.00000</td>\n",
       "      <td>0.00000</td>\n",
       "      <td>0.0</td>\n",
       "      <td>...</td>\n",
       "      <td>Valid</td>\n",
       "      <td>Klebsiella pneumoniae (+++);Pseudomonas aerugi...</td>\n",
       "      <td>CTX-M\\nshv\\nsul1\\ntem</td>\n",
       "      <td>VAP</td>\n",
       "      <td>True</td>\n",
       "      <td>148719</td>\n",
       "      <td>2412.0</td>\n",
       "      <td>811.157062</td>\n",
       "      <td>146934</td>\n",
       "      <td>True</td>\n",
       "    </tr>\n",
       "    <tr>\n",
       "      <th>3</th>\n",
       "      <td>10_5</td>\n",
       "      <td>0.000000</td>\n",
       "      <td>0.000000</td>\n",
       "      <td>0.000000</td>\n",
       "      <td>0.0</td>\n",
       "      <td>1.000000</td>\n",
       "      <td>0.000000</td>\n",
       "      <td>0.00000</td>\n",
       "      <td>0.00000</td>\n",
       "      <td>0.0</td>\n",
       "      <td>...</td>\n",
       "      <td>Valid</td>\n",
       "      <td>Escherichia coli (+++);Klebsiella pneumoniae (...</td>\n",
       "      <td>shv\\ntem\\nE. coli gyrA83\\nE. coli gyrA87\\nP. a...</td>\n",
       "      <td>VAP</td>\n",
       "      <td>True</td>\n",
       "      <td>141513</td>\n",
       "      <td>2189.0</td>\n",
       "      <td>805.841245</td>\n",
       "      <td>113265</td>\n",
       "      <td>True</td>\n",
       "    </tr>\n",
       "    <tr>\n",
       "      <th>4</th>\n",
       "      <td>10_6</td>\n",
       "      <td>0.000000</td>\n",
       "      <td>0.000000</td>\n",
       "      <td>0.000000</td>\n",
       "      <td>0.0</td>\n",
       "      <td>0.000000</td>\n",
       "      <td>0.000000</td>\n",
       "      <td>0.99387</td>\n",
       "      <td>0.00613</td>\n",
       "      <td>0.0</td>\n",
       "      <td>...</td>\n",
       "      <td>Valid</td>\n",
       "      <td>Stenotrophomonas maltophilia (+++)</td>\n",
       "      <td>Not detected</td>\n",
       "      <td>VAP</td>\n",
       "      <td>True</td>\n",
       "      <td>153824</td>\n",
       "      <td>2229.0</td>\n",
       "      <td>815.686923</td>\n",
       "      <td>146062</td>\n",
       "      <td>True</td>\n",
       "    </tr>\n",
       "    <tr>\n",
       "      <th>7</th>\n",
       "      <td>11_8</td>\n",
       "      <td>0.428853</td>\n",
       "      <td>0.000000</td>\n",
       "      <td>0.000000</td>\n",
       "      <td>0.0</td>\n",
       "      <td>0.000000</td>\n",
       "      <td>0.000000</td>\n",
       "      <td>0.00000</td>\n",
       "      <td>0.00000</td>\n",
       "      <td>0.0</td>\n",
       "      <td>...</td>\n",
       "      <td>Valid</td>\n",
       "      <td>Pneumocystis jirovecii (++)</td>\n",
       "      <td>Not detected</td>\n",
       "      <td>VAP</td>\n",
       "      <td>True</td>\n",
       "      <td>177498</td>\n",
       "      <td>2431.0</td>\n",
       "      <td>852.424448</td>\n",
       "      <td>28762</td>\n",
       "      <td>True</td>\n",
       "    </tr>\n",
       "    <tr>\n",
       "      <th>...</th>\n",
       "      <td>...</td>\n",
       "      <td>...</td>\n",
       "      <td>...</td>\n",
       "      <td>...</td>\n",
       "      <td>...</td>\n",
       "      <td>...</td>\n",
       "      <td>...</td>\n",
       "      <td>...</td>\n",
       "      <td>...</td>\n",
       "      <td>...</td>\n",
       "      <td>...</td>\n",
       "      <td>...</td>\n",
       "      <td>...</td>\n",
       "      <td>...</td>\n",
       "      <td>...</td>\n",
       "      <td>...</td>\n",
       "      <td>...</td>\n",
       "      <td>...</td>\n",
       "      <td>...</td>\n",
       "      <td>...</td>\n",
       "      <td>...</td>\n",
       "    </tr>\n",
       "    <tr>\n",
       "      <th>216</th>\n",
       "      <td>8_6</td>\n",
       "      <td>0.000000</td>\n",
       "      <td>0.000000</td>\n",
       "      <td>0.000000</td>\n",
       "      <td>0.0</td>\n",
       "      <td>0.000000</td>\n",
       "      <td>0.000000</td>\n",
       "      <td>0.00000</td>\n",
       "      <td>0.00000</td>\n",
       "      <td>0.0</td>\n",
       "      <td>...</td>\n",
       "      <td>Valid</td>\n",
       "      <td>Escherichia coli (+)</td>\n",
       "      <td>sul1</td>\n",
       "      <td>VAP</td>\n",
       "      <td>True</td>\n",
       "      <td>2882</td>\n",
       "      <td>3169.0</td>\n",
       "      <td>1062.191180</td>\n",
       "      <td>2331</td>\n",
       "      <td>True</td>\n",
       "    </tr>\n",
       "    <tr>\n",
       "      <th>217</th>\n",
       "      <td>9_1</td>\n",
       "      <td>0.000000</td>\n",
       "      <td>0.000000</td>\n",
       "      <td>0.000000</td>\n",
       "      <td>0.0</td>\n",
       "      <td>0.000000</td>\n",
       "      <td>0.000000</td>\n",
       "      <td>0.00000</td>\n",
       "      <td>0.00000</td>\n",
       "      <td>0.0</td>\n",
       "      <td>...</td>\n",
       "      <td>Valid</td>\n",
       "      <td>Staphylococcus aureus (++)</td>\n",
       "      <td>Not detected</td>\n",
       "      <td>VAP</td>\n",
       "      <td>True</td>\n",
       "      <td>332789</td>\n",
       "      <td>2229.0</td>\n",
       "      <td>864.430847</td>\n",
       "      <td>329903</td>\n",
       "      <td>True</td>\n",
       "    </tr>\n",
       "    <tr>\n",
       "      <th>220</th>\n",
       "      <td>9_4</td>\n",
       "      <td>0.000000</td>\n",
       "      <td>0.000000</td>\n",
       "      <td>0.000000</td>\n",
       "      <td>0.0</td>\n",
       "      <td>0.000000</td>\n",
       "      <td>0.000000</td>\n",
       "      <td>0.00000</td>\n",
       "      <td>0.00000</td>\n",
       "      <td>0.0</td>\n",
       "      <td>...</td>\n",
       "      <td>Valid</td>\n",
       "      <td>Staphylococcus aureus (++)</td>\n",
       "      <td>mecA</td>\n",
       "      <td>VAP</td>\n",
       "      <td>True</td>\n",
       "      <td>298397</td>\n",
       "      <td>2706.0</td>\n",
       "      <td>869.932758</td>\n",
       "      <td>17874</td>\n",
       "      <td>True</td>\n",
       "    </tr>\n",
       "    <tr>\n",
       "      <th>221</th>\n",
       "      <td>9_5</td>\n",
       "      <td>0.538721</td>\n",
       "      <td>0.000000</td>\n",
       "      <td>0.000000</td>\n",
       "      <td>0.0</td>\n",
       "      <td>0.000000</td>\n",
       "      <td>0.000000</td>\n",
       "      <td>0.00000</td>\n",
       "      <td>0.00000</td>\n",
       "      <td>0.0</td>\n",
       "      <td>...</td>\n",
       "      <td>Valid</td>\n",
       "      <td>Negative</td>\n",
       "      <td>Not detected</td>\n",
       "      <td>VAP</td>\n",
       "      <td>True</td>\n",
       "      <td>900</td>\n",
       "      <td>2921.5</td>\n",
       "      <td>908.892809</td>\n",
       "      <td>701</td>\n",
       "      <td>True</td>\n",
       "    </tr>\n",
       "    <tr>\n",
       "      <th>222</th>\n",
       "      <td>9_6</td>\n",
       "      <td>0.000000</td>\n",
       "      <td>0.000000</td>\n",
       "      <td>0.258954</td>\n",
       "      <td>0.0</td>\n",
       "      <td>0.000000</td>\n",
       "      <td>0.000000</td>\n",
       "      <td>0.00000</td>\n",
       "      <td>0.00000</td>\n",
       "      <td>0.0</td>\n",
       "      <td>...</td>\n",
       "      <td>Valid</td>\n",
       "      <td>Negative</td>\n",
       "      <td>Not detected</td>\n",
       "      <td>VAP</td>\n",
       "      <td>True</td>\n",
       "      <td>303899</td>\n",
       "      <td>2945.0</td>\n",
       "      <td>980.001130</td>\n",
       "      <td>268563</td>\n",
       "      <td>True</td>\n",
       "    </tr>\n",
       "  </tbody>\n",
       "</table>\n",
       "<p>127 rows × 190 columns</p>\n",
       "</div>"
      ],
      "text/plain": [
       "    run_id  Pseudomonas  Corynebacterium  Streptococcus  Serratia  Klebsiella  \\\n",
       "0     10_2     0.573426         0.013248       0.413326       0.0    0.000000   \n",
       "2     10_4     0.000000         0.000000       0.000000       0.0    0.993836   \n",
       "3     10_5     0.000000         0.000000       0.000000       0.0    1.000000   \n",
       "4     10_6     0.000000         0.000000       0.000000       0.0    0.000000   \n",
       "7     11_8     0.428853         0.000000       0.000000       0.0    0.000000   \n",
       "..     ...          ...              ...            ...       ...         ...   \n",
       "216    8_6     0.000000         0.000000       0.000000       0.0    0.000000   \n",
       "217    9_1     0.000000         0.000000       0.000000       0.0    0.000000   \n",
       "220    9_4     0.000000         0.000000       0.000000       0.0    0.000000   \n",
       "221    9_5     0.538721         0.000000       0.000000       0.0    0.000000   \n",
       "222    9_6     0.000000         0.000000       0.258954       0.0    0.000000   \n",
       "\n",
       "     Salmonella  Stenotrophomonas  Alcaligenes  Haemophilus  ...  \\\n",
       "0      0.000000           0.00000      0.00000          0.0  ...   \n",
       "2      0.006164           0.00000      0.00000          0.0  ...   \n",
       "3      0.000000           0.00000      0.00000          0.0  ...   \n",
       "4      0.000000           0.99387      0.00613          0.0  ...   \n",
       "7      0.000000           0.00000      0.00000          0.0  ...   \n",
       "..          ...               ...          ...          ...  ...   \n",
       "216    0.000000           0.00000      0.00000          0.0  ...   \n",
       "217    0.000000           0.00000      0.00000          0.0  ...   \n",
       "220    0.000000           0.00000      0.00000          0.0  ...   \n",
       "221    0.000000           0.00000      0.00000          0.0  ...   \n",
       "222    0.000000           0.00000      0.00000          0.0  ...   \n",
       "\n",
       "     curetis_validity                                   curetis_organism  \\\n",
       "0               Valid                       Pseudomonas aeruginosa (+++)   \n",
       "2               Valid  Klebsiella pneumoniae (+++);Pseudomonas aerugi...   \n",
       "3               Valid  Escherichia coli (+++);Klebsiella pneumoniae (...   \n",
       "4               Valid                 Stenotrophomonas maltophilia (+++)   \n",
       "7               Valid                        Pneumocystis jirovecii (++)   \n",
       "..                ...                                                ...   \n",
       "216             Valid                               Escherichia coli (+)   \n",
       "217             Valid                         Staphylococcus aureus (++)   \n",
       "220             Valid                         Staphylococcus aureus (++)   \n",
       "221             Valid                                           Negative   \n",
       "222             Valid                                           Negative   \n",
       "\n",
       "                                    curetis_resistance  hap_vap2  ventilation  \\\n",
       "0                                                  shv       VAP         True   \n",
       "2                                CTX-M\\nshv\\nsul1\\ntem       VAP         True   \n",
       "3    shv\\ntem\\nE. coli gyrA83\\nE. coli gyrA87\\nP. a...       VAP         True   \n",
       "4                                         Not detected       VAP         True   \n",
       "7                                         Not detected       VAP         True   \n",
       "..                                                 ...       ...          ...   \n",
       "216                                               sul1       VAP         True   \n",
       "217                                       Not detected       VAP         True   \n",
       "220                                               mecA       VAP         True   \n",
       "221                                       Not detected       VAP         True   \n",
       "222                                       Not detected       VAP         True   \n",
       "\n",
       "     n_reads  median_read_length  sdev_read_length  microbial_reads  \\\n",
       "0     165967              2100.0        745.702017           152597   \n",
       "2     148719              2412.0        811.157062           146934   \n",
       "3     141513              2189.0        805.841245           113265   \n",
       "4     153824              2229.0        815.686923           146062   \n",
       "7     177498              2431.0        852.424448            28762   \n",
       "..       ...                 ...               ...              ...   \n",
       "216     2882              3169.0       1062.191180             2331   \n",
       "217   332789              2229.0        864.430847           329903   \n",
       "220   298397              2706.0        869.932758            17874   \n",
       "221      900              2921.5        908.892809              701   \n",
       "222   303899              2945.0        980.001130           268563   \n",
       "\n",
       "     high_microbe_count  \n",
       "0                  True  \n",
       "2                  True  \n",
       "3                  True  \n",
       "4                  True  \n",
       "7                  True  \n",
       "..                  ...  \n",
       "216                True  \n",
       "217                True  \n",
       "220                True  \n",
       "221                True  \n",
       "222                True  \n",
       "\n",
       "[127 rows x 190 columns]"
      ]
     },
     "execution_count": 57,
     "metadata": {},
     "output_type": "execute_result"
    }
   ],
   "source": [
    "merged_filt"
   ]
  },
  {
   "cell_type": "code",
   "execution_count": 2,
   "metadata": {
    "scrolled": true
   },
   "outputs": [
    {
     "name": "stdout",
     "output_type": "stream",
     "text": [
      "(216, 155)\n",
      "(216,)\n"
     ]
    }
   ],
   "source": [
    "raw_df = pd.read_csv(datasets / 'RA.G.zeroed.decontam.2.csv')\n",
    "meta = pd.read_csv(cwd / \"../data/metadata/parsed_patient_metadata.filt.csv\")\n",
    "# display(raw_df)\n",
    "# display(meta)\n",
    "\n",
    "merged_df = raw_df.merge(meta, on='run_id', how='left')\n",
    "merged_filt = merged_df.loc[merged_df.hap_vap_cap.isin(['HAP', 'VAP']), :]\n",
    "\n",
    "# Response\n",
    "y = merged_filt.loc[:, 'hap_vap_cap'].copy()\n",
    "\n",
    "# Features\n",
    "X = merged_filt.loc[:, ~merged_filt.keys().isin(meta.keys())].copy()\n",
    "\n",
    "# Rename features\n",
    "X.columns = X.columns.str.replace('[^A-Za-z0-9]+', '_') \n",
    "print(X.shape)\n",
    "print(y.shape)\n",
    "\n",
    "# Binary encode y\n",
    "y.loc[y == 'HAP'] = 1\n",
    "y.loc[y == 'VAP'] = 0\n",
    "y = y.astype('int')\n"
   ]
  },
  {
   "cell_type": "code",
   "execution_count": 3,
   "metadata": {},
   "outputs": [
    {
     "data": {
      "text/html": [
       "<div>\n",
       "<style scoped>\n",
       "    .dataframe tbody tr th:only-of-type {\n",
       "        vertical-align: middle;\n",
       "    }\n",
       "\n",
       "    .dataframe tbody tr th {\n",
       "        vertical-align: top;\n",
       "    }\n",
       "\n",
       "    .dataframe thead th {\n",
       "        text-align: right;\n",
       "    }\n",
       "</style>\n",
       "<table border=\"1\" class=\"dataframe\">\n",
       "  <thead>\n",
       "    <tr style=\"text-align: right;\">\n",
       "      <th></th>\n",
       "      <th>HAP</th>\n",
       "      <th>VAP</th>\n",
       "    </tr>\n",
       "  </thead>\n",
       "  <tbody>\n",
       "    <tr>\n",
       "      <th>Train fold</th>\n",
       "      <td>72</td>\n",
       "      <td>102</td>\n",
       "    </tr>\n",
       "    <tr>\n",
       "      <th>Test fold</th>\n",
       "      <td>17</td>\n",
       "      <td>25</td>\n",
       "    </tr>\n",
       "  </tbody>\n",
       "</table>\n",
       "</div>"
      ],
      "text/plain": [
       "            HAP  VAP\n",
       "Train fold   72  102\n",
       "Test fold    17   25"
      ]
     },
     "metadata": {},
     "output_type": "display_data"
    }
   ],
   "source": [
    "n_splits = 5\n",
    "\n",
    "pos = len(y[y == 1])\n",
    "neg = len(y[y == 0])\n",
    "split_sizes = pd.DataFrame({'HAP': [pos - int(pos / n_splits), int(pos / n_splits)], \n",
    "                           'VAP': [neg - int(neg / n_splits), int(neg / n_splits)]}, index=['Train fold', 'Test fold'])\n",
    "\n",
    "display(split_sizes)\n",
    "\n",
    "# Get negative to positive ratio\n",
    "ratio = sum(y == 0) / sum(y == 1)"
   ]
  },
  {
   "cell_type": "code",
   "execution_count": 21,
   "metadata": {},
   "outputs": [],
   "source": [
    "def optimise_evaluate(X, y):\n",
    "    np.random.seed(66)\n",
    "    ratio = sum(y == 0) / sum(y == 1)\n",
    "    \n",
    "    # Hyperparemeter Optimisation using grid search (F1)\n",
    "    model = XGBClassifier()\n",
    "    n_estimators = range(100, 500, 100)\n",
    "    max_depth = range(1, 2, 1)\n",
    "    gamma = np.linspace(0.1, 3, 10)\n",
    "    colsample_bytree = np.linspace(0.5, 1, 10)\n",
    "    \n",
    "    param_grid = dict(max_depth=max_depth, \n",
    "                      n_estimators=n_estimators, \n",
    "                      colsample_bytree=colsample_bytree,\n",
    "                      gamma=gamma,\n",
    "                     n_jobs=[1])\n",
    "    \n",
    "    inner_cv = StratifiedKFold(n_splits=n_splits, shuffle=True)\n",
    "    outer_cv = StratifiedKFold(n_splits=n_splits, shuffle=True)\n",
    "\n",
    "    # Inner CV\n",
    "    model = GridSearchCV(model, \n",
    "                         param_grid, \n",
    "                         scoring='f1',\n",
    "                         n_jobs=6, \n",
    "                         cv=inner_cv, \n",
    "                         verbose=1)\n",
    "\n",
    "    model.fit(X, y)\n",
    "    best_params = model.best_params_\n",
    "    print(best_params)\n",
    "\n",
    "    # Custom metrics\n",
    "    precision = make_scorer(precision_score, average='binary')\n",
    "    recall = make_scorer(recall_score, average='binary')\n",
    "    f1 = make_scorer(f1_score, average='binary')\n",
    "    auprc = make_scorer(average_precision_score, average=None)\n",
    "    \n",
    "    scoring = {'precision': precision, \n",
    "               'recall': recall, \n",
    "               'AUROC': 'roc_auc',\n",
    "               'F1': f1}\n",
    "\n",
    "    # Outer CV\n",
    "    outer_results = cross_validate(model, X=X, y=y, cv=outer_cv, scoring=scoring, n_jobs=4)\n",
    "    outer_results = pd.DataFrame(outer_results).mean()[['test_precision', 'test_recall', 'test_F1', 'test_AUROC']]\n",
    "\n",
    "    return outer_results, best_params\n"
   ]
  },
  {
   "cell_type": "code",
   "execution_count": 22,
   "metadata": {
    "scrolled": true
   },
   "outputs": [
    {
     "name": "stdout",
     "output_type": "stream",
     "text": [
      "Fitting 5 folds for each of 400 candidates, totalling 2000 fits\n",
      "{'colsample_bytree': 0.6666666666666666, 'gamma': 0.1, 'max_depth': 1, 'n_estimators': 400, 'n_jobs': 1}\n",
      "Fitting 5 folds for each of 400 candidates, totalling 2000 fits\n",
      "Fitting 5 folds for each of 400 candidates, totalling 2000 fits\n",
      "Fitting 5 folds for each of 400 candidates, totalling 2000 fits\n",
      "Fitting 5 folds for each of 400 candidates, totalling 2000 fits\n",
      "Fitting 5 folds for each of 400 candidates, totalling 2000 fits\n"
     ]
    }
   ],
   "source": [
    "raw_results, raw_params = optimise_evaluate(X, y)"
   ]
  },
  {
   "cell_type": "code",
   "execution_count": 26,
   "metadata": {},
   "outputs": [
    {
     "data": {
      "text/html": [
       "<div>\n",
       "<style scoped>\n",
       "    .dataframe tbody tr th:only-of-type {\n",
       "        vertical-align: middle;\n",
       "    }\n",
       "\n",
       "    .dataframe tbody tr th {\n",
       "        vertical-align: top;\n",
       "    }\n",
       "\n",
       "    .dataframe thead th {\n",
       "        text-align: right;\n",
       "    }\n",
       "</style>\n",
       "<table border=\"1\" class=\"dataframe\">\n",
       "  <thead>\n",
       "    <tr style=\"text-align: right;\">\n",
       "      <th></th>\n",
       "      <th>test_precision</th>\n",
       "      <th>test_recall</th>\n",
       "      <th>test_F1</th>\n",
       "      <th>test_AUROC</th>\n",
       "    </tr>\n",
       "  </thead>\n",
       "  <tbody>\n",
       "    <tr>\n",
       "      <th>0</th>\n",
       "      <td>0.495882</td>\n",
       "      <td>0.394771</td>\n",
       "      <td>0.425959</td>\n",
       "      <td>0.640203</td>\n",
       "    </tr>\n",
       "  </tbody>\n",
       "</table>\n",
       "</div>"
      ],
      "text/plain": [
       "   test_precision  test_recall   test_F1  test_AUROC\n",
       "0        0.495882     0.394771  0.425959    0.640203"
      ]
     },
     "execution_count": 26,
     "metadata": {},
     "output_type": "execute_result"
    }
   ],
   "source": [
    "pd.DataFrame(raw_results).transpose()"
   ]
  },
  {
   "cell_type": "code",
   "execution_count": 27,
   "metadata": {},
   "outputs": [],
   "source": [
    "g1 = 'HAP'\n",
    "g2 = 'VAP'\n",
    "threshold = 1"
   ]
  },
  {
   "cell_type": "code",
   "execution_count": null,
   "metadata": {},
   "outputs": [],
   "source": []
  },
  {
   "cell_type": "code",
   "execution_count": 37,
   "metadata": {},
   "outputs": [
    {
     "data": {
      "text/plain": [
       "array([[-0.17141858, -0.02464159,  0.01172158, ...,  0.        ,\n",
       "         0.        ,  0.        ],\n",
       "       [ 0.03001044,  0.00271965, -0.06202972, ...,  0.        ,\n",
       "         0.        ,  0.        ],\n",
       "       [ 0.03001044,  0.00271965, -0.06202972, ...,  0.        ,\n",
       "         0.        ,  0.        ],\n",
       "       ...,\n",
       "       [ 0.05293511,  0.00366133, -0.07592897, ...,  0.        ,\n",
       "         0.        ,  0.        ],\n",
       "       [-0.13108173,  0.00264948, -0.06062715, ...,  0.        ,\n",
       "         0.        ,  0.        ],\n",
       "       [ 0.03653902,  0.00310767,  0.00855119, ...,  0.        ,\n",
       "         0.        ,  0.        ]])"
      ]
     },
     "execution_count": 37,
     "metadata": {},
     "output_type": "execute_result"
    }
   ],
   "source": [
    "shap_values"
   ]
  },
  {
   "cell_type": "code",
   "execution_count": 44,
   "metadata": {},
   "outputs": [],
   "source": [
    " final_model = XGBClassifier(**raw_params)\n",
    " final_model.fit(X=X, y=y)\n",
    "\n",
    " explainer = shap.TreeExplainer(final_model, model_output='probability', data=X)\n",
    " shap_values = explainer.shap_values(X)\n",
    "\n",
    " # # Parse SHAP values\n",
    " shap_df = pd.DataFrame(shap_values, columns=X.columns).add_suffix('.shap')\n",
    " merged = pd.concat([X, shap_df], axis=1)"
   ]
  },
  {
   "cell_type": "code",
   "execution_count": 47,
   "metadata": {},
   "outputs": [
    {
     "data": {
      "text/html": [
       "<div>\n",
       "<style scoped>\n",
       "    .dataframe tbody tr th:only-of-type {\n",
       "        vertical-align: middle;\n",
       "    }\n",
       "\n",
       "    .dataframe tbody tr th {\n",
       "        vertical-align: top;\n",
       "    }\n",
       "\n",
       "    .dataframe thead th {\n",
       "        text-align: right;\n",
       "    }\n",
       "</style>\n",
       "<table border=\"1\" class=\"dataframe\">\n",
       "  <thead>\n",
       "    <tr style=\"text-align: right;\">\n",
       "      <th></th>\n",
       "      <th>colsample_bytree</th>\n",
       "      <th>gamma</th>\n",
       "      <th>max_depth</th>\n",
       "      <th>n_estimators</th>\n",
       "      <th>n_jobs</th>\n",
       "      <th>g1</th>\n",
       "      <th>g2</th>\n",
       "      <th>threshold</th>\n",
       "      <th>test_precision</th>\n",
       "      <th>test_recall</th>\n",
       "      <th>test_F1</th>\n",
       "      <th>test_AUROC</th>\n",
       "    </tr>\n",
       "  </thead>\n",
       "  <tbody>\n",
       "    <tr>\n",
       "      <th>0</th>\n",
       "      <td>0.666667</td>\n",
       "      <td>0.1</td>\n",
       "      <td>1</td>\n",
       "      <td>400</td>\n",
       "      <td>1</td>\n",
       "      <td>HAP</td>\n",
       "      <td>VAP</td>\n",
       "      <td>1</td>\n",
       "      <td>0.495882</td>\n",
       "      <td>0.394771</td>\n",
       "      <td>0.425959</td>\n",
       "      <td>0.640203</td>\n",
       "    </tr>\n",
       "  </tbody>\n",
       "</table>\n",
       "</div>"
      ],
      "text/plain": [
       "   colsample_bytree  gamma  max_depth  n_estimators  n_jobs   g1   g2  \\\n",
       "0          0.666667    0.1          1           400       1  HAP  VAP   \n",
       "\n",
       "   threshold  test_precision  test_recall   test_F1  test_AUROC  \n",
       "0          1        0.495882     0.394771  0.425959    0.640203  "
      ]
     },
     "metadata": {},
     "output_type": "display_data"
    }
   ],
   "source": [
    "results_df = pd.DataFrame(raw_results).transpose()\n",
    "param_df = pd.DataFrame(raw_params, index=[0])\n",
    "param_df['g1'] = g1\n",
    "param_df['g2'] = g2\n",
    "param_df['threshold'] = threshold\n",
    "\n",
    "final_results = pd.concat([param_df, results_df], axis=1)\n",
    "display(final_results)"
   ]
  },
  {
   "cell_type": "code",
   "execution_count": 6,
   "metadata": {},
   "outputs": [
    {
     "name": "stdout",
     "output_type": "stream",
     "text": [
      "{'colsample_bytree': 0.2, 'max_depth': 4, 'n_estimators': 300}\n"
     ]
    }
   ],
   "source": [
    "print(raw_params)\n",
    "res_df = pd.DataFrame(raw_results).transpose()\n",
    "res_df.to_csv(results / 'raw_results/HAP_VAP.csv', index=False)"
   ]
  },
  {
   "cell_type": "code",
   "execution_count": 7,
   "metadata": {
    "scrolled": true
   },
   "outputs": [],
   "source": [
    "# # From XGboost_external_validation notebook\n",
    "# raw_params = {'subsample': 0.8, 'scale_pos_weight': 0.9043478260869565, 'n_estimators': 220, 'max_depth': 4, 'gamma': 0.1, 'colsample_bytree': 0.1473684210526316}\n",
    "# raw_model = XGBClassifier(**raw_params)\n",
    "# raw_model.fit(X, y)\n",
    "\n",
    "# explainer_raw = shap.TreeExplainer(raw_model, feature_pertubation='interventional', model_output='probability', data=X)\n",
    "# shap_raw = explainer_raw.shap_values(X)"
   ]
  },
  {
   "cell_type": "code",
   "execution_count": 52,
   "metadata": {},
   "outputs": [],
   "source": [
    " merged.to_csv(results / f'shap_out/{g1}.{g2}.{threshold}.shap.csv', index=False)\n",
    " final_results.to_csv(results / f'results_out/{g1}.{g2}.{threshold}.results.csv', index=False)"
   ]
  },
  {
   "cell_type": "code",
   "execution_count": 53,
   "metadata": {},
   "outputs": [
    {
     "data": {
      "image/png": "[encoded data removed]",
      "text/plain": [
       "<Figure size 900x900 with 2 Axes>"
      ]
     },
     "metadata": {},
     "output_type": "display_data"
    }
   ],
   "source": [
    " shap.summary_plot(shap_values, X,\n",
    "                   show=False,\n",
    "                   plot_size=(9, 9),\n",
    "                   color_bar_label='Relative abundance',\n",
    "                   max_display=10)\n",
    " fig, ax = plt.gcf(), plt.gca()\n",
    " ax.set_xlabel('SHAP Value')\n",
    " plt.savefig(results / f'beeswarm_out/{g1}.{g2}.{threshold}.pdf', dpi=600, format='pdf')"
   ]
  },
  {
   "cell_type": "code",
   "execution_count": 50,
   "metadata": {},
   "outputs": [
    {
     "data": {
      "image/png": "[encoded data removed]",
      "text/plain": [
       "<Figure size 900x900 with 2 Axes>"
      ]
     },
     "metadata": {},
     "output_type": "display_data"
    }
   ],
   "source": [
    " final_model = XGBClassifier(**raw_params)\n",
    " final_model.fit(X=X, y=y)\n",
    "\n",
    " explainer = shap.TreeExplainer(final_model, feature_perturbation='interventional', model_output='probability', data=X)\n",
    " shap_values = explainer.shap_values(X)\n",
    "\n",
    " # Parse SHAP values\n",
    " shap_df = pd.DataFrame(shap_values, columns=X.columns).add_suffix('.shap')\n",
    " merged = pd.concat([X, shap_df], axis=1)\n",
    "\n",
    " shap.summary_plot(shap_values, X,\n",
    "                   show=False,\n",
    "                   plot_size=(9, 9),\n",
    "                   color_bar_label='Relative abundance',\n",
    "                   max_display=10)\n",
    " fig, ax = plt.gcf(), plt.gca()"
   ]
  },
  {
   "cell_type": "code",
   "execution_count": 48,
   "metadata": {},
   "outputs": [
    {
     "ename": "NameError",
     "evalue": "name 'shap_pre' is not defined",
     "output_type": "error",
     "traceback": [
      "\u001b[0;31m---------------------------------------------------------------------------\u001b[0m",
      "\u001b[0;31mNameError\u001b[0m                                 Traceback (most recent call last)",
      "Cell \u001b[0;32mIn[48], line 7\u001b[0m\n\u001b[1;32m      1\u001b[0m \u001b[38;5;66;03m# pre_model = XGBClassifier(**raw_params)\u001b[39;00m\n\u001b[1;32m      2\u001b[0m \u001b[38;5;66;03m# pre_model.fit(X=X, y=y)\u001b[39;00m\n\u001b[1;32m      3\u001b[0m \n\u001b[1;32m      4\u001b[0m \u001b[38;5;66;03m# pre_explainer = shap.TreeExplainer(pre_model, feature_pertubation='interventional', model_output='probability', data=X)\u001b[39;00m\n\u001b[1;32m      5\u001b[0m \u001b[38;5;66;03m# shap_pre = pre_explainer.shap_values(X)\u001b[39;00m\n\u001b[0;32m----> 7\u001b[0m shap\u001b[38;5;241m.\u001b[39msummary_plot(\u001b[43mshap_pre\u001b[49m, X, \n\u001b[1;32m      8\u001b[0m                   show\u001b[38;5;241m=\u001b[39m\u001b[38;5;28;01mFalse\u001b[39;00m, \n\u001b[1;32m      9\u001b[0m                   plot_size\u001b[38;5;241m=\u001b[39m(\u001b[38;5;241m9\u001b[39m, \u001b[38;5;241m9\u001b[39m), \n\u001b[1;32m     10\u001b[0m                   color_bar_label\u001b[38;5;241m=\u001b[39m\u001b[38;5;124m'\u001b[39m\u001b[38;5;124mRelative abundance\u001b[39m\u001b[38;5;124m'\u001b[39m,\n\u001b[1;32m     11\u001b[0m                   max_display\u001b[38;5;241m=\u001b[39m\u001b[38;5;241m25\u001b[39m)\n\u001b[1;32m     12\u001b[0m fig, ax \u001b[38;5;241m=\u001b[39m plt\u001b[38;5;241m.\u001b[39mgcf(), plt\u001b[38;5;241m.\u001b[39mgca()\n\u001b[1;32m     13\u001b[0m ax\u001b[38;5;241m.\u001b[39mset_xlabel(\u001b[38;5;124m'\u001b[39m\u001b[38;5;124mSHAP Value\u001b[39m\u001b[38;5;124m'\u001b[39m)\n",
      "\u001b[0;31mNameError\u001b[0m: name 'shap_pre' is not defined"
     ]
    }
   ],
   "source": [
    "# pre_model = XGBClassifier(**raw_params)\n",
    "# pre_model.fit(X=X, y=y)\n",
    "\n",
    "# pre_explainer = shap.TreeExplainer(pre_model, feature_pertubation='interventional', model_output='probability', data=X)\n",
    "# shap_pre = pre_explainer.shap_values(X)\n",
    "\n",
    "shap.summary_plot(shap_pre, X, \n",
    "                  show=False, \n",
    "                  plot_size=(9, 9), \n",
    "                  color_bar_label='Relative abundance',\n",
    "                  max_display=25)\n",
    "fig, ax = plt.gcf(), plt.gca()\n",
    "ax.set_xlabel('SHAP Value')\n",
    "# plt.savefig(results / 'shap_plot.png', dpi=600, format='png')"
   ]
  }
 ],
 "metadata": {
  "kernelspec": {
   "display_name": "Python 3 (ipykernel)",
   "language": "python",
   "name": "python3"
  },
  "language_info": {
   "codemirror_mode": {
    "name": "ipython",
    "version": 3
   },
   "file_extension": ".py",
   "mimetype": "text/x-python",
   "name": "python",
   "nbconvert_exporter": "python",
   "pygments_lexer": "ipython3",
   "version": "3.11.8"
  }
 },
 "nbformat": 4,
 "nbformat_minor": 4
}
