{
 "cells": [
  {
   "cell_type": "markdown",
   "metadata": {},
   "source": [
    "# Binary classifier to predict HAP versus VAP"
   ]
  },
  {
   "cell_type": "code",
   "execution_count": 1,
   "metadata": {},
   "outputs": [
    {
     "name": "stdout",
     "output_type": "stream",
     "text": [
      "/mnt/c/git_repos/pneumonia/ML_scripts\n"
     ]
    },
    {
     "name": "stderr",
     "output_type": "stream",
     "text": [
      "/home/cednotsed/miniconda3/envs/mashin/lib/python3.11/site-packages/tqdm/auto.py:21: TqdmWarning: IProgress not found. Please update jupyter and ipywidgets. See https://ipywidgets.readthedocs.io/en/stable/user_install.html\n",
      "  from .autonotebook import tqdm as notebook_tqdm\n"
     ]
    }
   ],
   "source": [
    "# Import Statements\n",
    "import pandas as pd\n",
    "import numpy as np\n",
    "import matplotlib.pyplot as plt\n",
    "from pathlib import Path\n",
    "from xgboost import XGBClassifier\n",
    "import shap\n",
    "from xgboost import XGBClassifier\n",
    "from sklearn.model_selection import RandomizedSearchCV, GridSearchCV, StratifiedKFold, cross_validate\n",
    "from sklearn.metrics import make_scorer, precision_score, recall_score, f1_score, average_precision_score\n",
    "\n",
    "cwd = Path.cwd()\n",
    "print(cwd)\n",
    "datasets = cwd / '../results/tax_classification_out/abundance_matrices'\n",
    "results = cwd / '../results/ML_out'"
   ]
  },
  {
   "cell_type": "markdown",
   "metadata": {},
   "source": [
    "## Data Preprocessing"
   ]
  },
  {
   "cell_type": "markdown",
   "metadata": {},
   "source": [
    "### Load data"
   ]
  },
  {
   "cell_type": "code",
   "execution_count": 2,
   "metadata": {
    "scrolled": true
   },
   "outputs": [
    {
     "name": "stdout",
     "output_type": "stream",
     "text": [
      "(216, 152)\n",
      "(216,)\n"
     ]
    }
   ],
   "source": [
    "raw_df = pd.read_csv(datasets / 'RA.G.zeroed.decontam.2.csv')\n",
    "meta = pd.read_csv(cwd / \"../data/metadata/parsed_patient_metadata.filt.csv\")\n",
    "# display(raw_df)\n",
    "# display(meta)\n",
    "\n",
    "merged_df = raw_df.merge(meta, on='run_id', how='left')\n",
    "merged_filt = merged_df.loc[merged_df.hap_vap_cap.isin(['HAP', 'VAP']), :]\n",
    "\n",
    "# Response\n",
    "y = merged_filt.loc[:, 'hap_vap_cap'].copy()\n",
    "\n",
    "# Features\n",
    "X = merged_filt.loc[:, ~merged_filt.keys().isin(meta.keys())].copy()\n",
    "\n",
    "# Rename features\n",
    "X.columns = X.columns.str.replace('[^A-Za-z0-9]+', '_') \n",
    "print(X.shape)\n",
    "print(y.shape)\n",
    "\n",
    "# Binary encode y\n",
    "y.loc[y == 'HAP'] = 1\n",
    "y.loc[y == 'VAP'] = 0\n",
    "y = y.astype('int')\n"
   ]
  },
  {
   "cell_type": "code",
   "execution_count": 3,
   "metadata": {},
   "outputs": [
    {
     "data": {
      "text/html": [
       "<div>\n",
       "<style scoped>\n",
       "    .dataframe tbody tr th:only-of-type {\n",
       "        vertical-align: middle;\n",
       "    }\n",
       "\n",
       "    .dataframe tbody tr th {\n",
       "        vertical-align: top;\n",
       "    }\n",
       "\n",
       "    .dataframe thead th {\n",
       "        text-align: right;\n",
       "    }\n",
       "</style>\n",
       "<table border=\"1\" class=\"dataframe\">\n",
       "  <thead>\n",
       "    <tr style=\"text-align: right;\">\n",
       "      <th></th>\n",
       "      <th>HAP</th>\n",
       "      <th>VAP</th>\n",
       "    </tr>\n",
       "  </thead>\n",
       "  <tbody>\n",
       "    <tr>\n",
       "      <th>Train fold</th>\n",
       "      <td>72</td>\n",
       "      <td>102</td>\n",
       "    </tr>\n",
       "    <tr>\n",
       "      <th>Test fold</th>\n",
       "      <td>17</td>\n",
       "      <td>25</td>\n",
       "    </tr>\n",
       "  </tbody>\n",
       "</table>\n",
       "</div>"
      ],
      "text/plain": [
       "            HAP  VAP\n",
       "Train fold   72  102\n",
       "Test fold    17   25"
      ]
     },
     "metadata": {},
     "output_type": "display_data"
    }
   ],
   "source": [
    "n_splits = 5\n",
    "\n",
    "pos = len(y[y == 1])\n",
    "neg = len(y[y == 0])\n",
    "split_sizes = pd.DataFrame({'HAP': [pos - int(pos / n_splits), int(pos / n_splits)], \n",
    "                           'VAP': [neg - int(neg / n_splits), int(neg / n_splits)]}, index=['Train fold', 'Test fold'])\n",
    "\n",
    "display(split_sizes)\n",
    "\n",
    "# Get negative to positive ratio\n",
    "ratio = sum(y == 0) / sum(y == 1)"
   ]
  },
  {
   "cell_type": "code",
   "execution_count": 4,
   "metadata": {},
   "outputs": [],
   "source": [
    "def optimise_evaluate(X, y):\n",
    "    np.random.seed(66)\n",
    "    ratio = sum(y == 0) / sum(y == 1)\n",
    "    \n",
    "    # Hyperparemeter Optimisation using grid search (F1)\n",
    "    model = XGBClassifier()\n",
    "    n_estimators = range(100, 1000, 100)\n",
    "    max_depth = range(1, 5, 1)\n",
    "    # gamma = np.linspace(0.1, 3, 10)\n",
    "    colsample_bytree = np.linspace(0.1, 1, 10)\n",
    "    \n",
    "    param_grid = dict(max_depth=max_depth, \n",
    "                      n_estimators=n_estimators, \n",
    "                      colsample_bytree=colsample_bytree)\n",
    "                      # gamma=gamma,)\n",
    "    \n",
    "    inner_cv = StratifiedKFold(n_splits=n_splits, shuffle=True)\n",
    "    outer_cv = StratifiedKFold(n_splits=n_splits, shuffle=True)\n",
    "\n",
    "    # Inner CV\n",
    "    model = GridSearchCV(model, \n",
    "                         param_grid, \n",
    "                         scoring='f1',\n",
    "                         n_jobs=16, \n",
    "                         cv=inner_cv, \n",
    "                         verbose=1)\n",
    "\n",
    "    model.fit(X, y)\n",
    "    best_params = model.best_params_\n",
    "    print(best_params)\n",
    "\n",
    "    # Custom metrics\n",
    "    precision = make_scorer(precision_score, average='binary')\n",
    "    recall = make_scorer(recall_score, average='binary')\n",
    "    f1 = make_scorer(f1_score, average='binary')\n",
    "    auprc = make_scorer(average_precision_score, average=None)\n",
    "    \n",
    "    scoring = {'precision': precision, \n",
    "               'recall': recall, \n",
    "               'AUROC': 'roc_auc',\n",
    "               'F1': f1}\n",
    "\n",
    "    # Outer CV\n",
    "    outer_results = cross_validate(model, X=X, y=y, cv=outer_cv, scoring=scoring)\n",
    "    outer_results = pd.DataFrame(outer_results).mean()[['test_precision', 'test_recall', 'test_F1', 'test_AUROC']]\n",
    "\n",
    "    return outer_results, best_params\n"
   ]
  },
  {
   "cell_type": "code",
   "execution_count": 5,
   "metadata": {
    "scrolled": true
   },
   "outputs": [
    {
     "name": "stdout",
     "output_type": "stream",
     "text": [
      "Fitting 5 folds for each of 360 candidates, totalling 1800 fits\n",
      "{'colsample_bytree': 0.2, 'max_depth': 4, 'n_estimators': 300}\n",
      "Fitting 5 folds for each of 360 candidates, totalling 1800 fits\n",
      "Fitting 5 folds for each of 360 candidates, totalling 1800 fits\n",
      "Fitting 5 folds for each of 360 candidates, totalling 1800 fits\n",
      "Fitting 5 folds for each of 360 candidates, totalling 1800 fits\n",
      "Fitting 5 folds for each of 360 candidates, totalling 1800 fits\n"
     ]
    }
   ],
   "source": [
    "raw_results, raw_params = optimise_evaluate(X, y)"
   ]
  },
  {
   "cell_type": "code",
   "execution_count": 6,
   "metadata": {},
   "outputs": [
    {
     "name": "stdout",
     "output_type": "stream",
     "text": [
      "{'colsample_bytree': 0.2, 'max_depth': 4, 'n_estimators': 300}\n"
     ]
    }
   ],
   "source": [
    "print(raw_params)\n",
    "res_df = pd.DataFrame(raw_results).transpose()\n",
    "res_df.to_csv(results / 'raw_results/HAP_VAP.csv', index=False)"
   ]
  },
  {
   "cell_type": "code",
   "execution_count": 7,
   "metadata": {
    "scrolled": true
   },
   "outputs": [],
   "source": [
    "# # From XGboost_external_validation notebook\n",
    "# raw_params = {'subsample': 0.8, 'scale_pos_weight': 0.9043478260869565, 'n_estimators': 220, 'max_depth': 4, 'gamma': 0.1, 'colsample_bytree': 0.1473684210526316}\n",
    "# raw_model = XGBClassifier(**raw_params)\n",
    "# raw_model.fit(X, y)\n",
    "\n",
    "# explainer_raw = shap.TreeExplainer(raw_model, feature_pertubation='interventional', model_output='probability', data=X)\n",
    "# shap_raw = explainer_raw.shap_values(X)"
   ]
  },
  {
   "cell_type": "code",
   "execution_count": 8,
   "metadata": {},
   "outputs": [],
   "source": [
    "# pre_model = XGBClassifier(**raw_params)\n",
    "# pre_model.fit(X=X, y=y)\n",
    "\n",
    "# pre_explainer = shap.TreeExplainer(pre_model, feature_pertubation='interventional', model_output='probability', data=X)\n",
    "# shap_pre = pre_explainer.shap_values(X)\n",
    "\n",
    "# shap.summary_plot(shap_pre, X, \n",
    "#                   show=False, \n",
    "#                   plot_size=(9, 9), \n",
    "#                   color_bar_label='Relative abundance',\n",
    "#                   max_display=25)\n",
    "# fig, ax = plt.gcf(), plt.gca()\n",
    "# ax.set_xlabel('SHAP Value')\n",
    "# plt.savefig(results / 'shap_plot.png', dpi=600, format='png')"
   ]
  }
 ],
 "metadata": {
  "kernelspec": {
   "display_name": "Python 3 (ipykernel)",
   "language": "python",
   "name": "python3"
  },
  "language_info": {
   "codemirror_mode": {
    "name": "ipython",
    "version": 3
   },
   "file_extension": ".py",
   "mimetype": "text/x-python",
   "name": "python",
   "nbconvert_exporter": "python",
   "pygments_lexer": "ipython3",
   "version": "3.11.8"
  }
 },
 "nbformat": 4,
 "nbformat_minor": 4
}
