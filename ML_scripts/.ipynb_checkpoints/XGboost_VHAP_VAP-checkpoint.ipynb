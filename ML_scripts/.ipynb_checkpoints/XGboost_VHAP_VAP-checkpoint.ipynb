{
 "cells": [
  {
   "cell_type": "markdown",
   "metadata": {},
   "source": [
    "# The effectiveness of SHAP for retrieving biologically important genera"
   ]
  },
  {
   "cell_type": "code",
   "execution_count": null,
   "metadata": {},
   "outputs": [],
   "source": [
    "# Import Statements\n",
    "import pandas as pd\n",
    "import numpy as np\n",
    "import matplotlib.pyplot as plt\n",
    "from pathlib import Path\n",
    "from xgboost import XGBClassifier\n",
    "import shap\n",
    "from xgboost import XGBClassifier\n",
    "from sklearn.model_selection import RandomizedSearchCV, GridSearchCV, RepeatedStratifiedKFold, StratifiedKFold, cross_validate\n",
    "from sklearn.metrics import make_scorer, precision_score, recall_score, f1_score, average_precision_score\n",
    "\n",
    "cwd = Path.cwd()\n",
    "print(cwd)\n",
    "datasets = cwd / '../results/tax_classification_out/abundance_matrices'\n",
    "results = cwd / '../results/ML_out'"
   ]
  },
  {
   "cell_type": "markdown",
   "metadata": {},
   "source": [
    "## Data Preprocessing"
   ]
  },
  {
   "cell_type": "markdown",
   "metadata": {},
   "source": [
    "### Load data"
   ]
  },
  {
   "cell_type": "code",
   "execution_count": null,
   "metadata": {
    "scrolled": true
   },
   "outputs": [],
   "source": [
    "raw_df = pd.read_csv(datasets / 'RA.G.zeroed.decontam.2.csv')\n",
    "meta = pd.read_csv(cwd / \"../data/metadata/parsed_patient_metadata.filt.csv\")\n",
    "# display(raw_df)\n",
    "# display(meta)\n",
    "\n",
    "merged_df = raw_df.merge(meta, on='run_id', how='left')\n",
    "merged_filt = merged_df.loc[merged_df.hap_vap2.isin(['V-HAP', 'VAP']), :]\n",
    "\n",
    "# Response\n",
    "y = merged_filt.loc[:, 'hap_vap2'].copy()\n",
    "\n",
    "# Features\n",
    "X = merged_filt.loc[:, ~merged_filt.keys().isin(meta.keys())].copy()\n",
    "\n",
    "# # Add sample type\n",
    "# X.insert(0, 'sample_type', merged_filt.loc[:, 'sample_type'])\n",
    "\n",
    "# # Categorical encode variables\n",
    "# X.replace({'sample_type': {'SPU' : 1, 'ETT' : 2, 'ND-BAL' : 3, 'BAL': 4}}, inplace=True)\n",
    "\n",
    "# Rename features\n",
    "X.columns = X.columns.str.replace('[^A-Za-z0-9]+', '_') \n",
    "print(X.shape)\n",
    "print(y.shape)\n",
    "\n",
    "# Binary encode y\n",
    "y.loc[y == 'V-HAP'] = 1\n",
    "y.loc[y == 'VAP'] = 0\n",
    "y = y.astype('int')\n",
    "y.value_counts()"
   ]
  },
  {
   "cell_type": "code",
   "execution_count": null,
   "metadata": {},
   "outputs": [],
   "source": [
    "n_splits = 5\n",
    "\n",
    "pos = len(y[y == 1])\n",
    "neg = len(y[y == 0])\n",
    "split_sizes = pd.DataFrame({'V-HAP': [pos - int(pos / n_splits), int(pos / n_splits)], \n",
    "                           'VAP': [neg - int(neg / n_splits), int(neg / n_splits)]}, index=['Train fold', 'Test fold'])\n",
    "\n",
    "display(split_sizes)\n",
    "\n",
    "# Get negative to positive ratio\n",
    "ratio = sum(y == 0) / sum(y == 1)"
   ]
  },
  {
   "cell_type": "code",
   "execution_count": null,
   "metadata": {},
   "outputs": [],
   "source": [
    "# inner_cv = RepeatedStratifiedKFold(n_splits=n_splits, n_repeats=n_splits)\n",
    "# model = XGBClassifier(n_estimators = 500)\n",
    "\n",
    "# precision = make_scorer(precision_score, average='binary')\n",
    "# recall = make_scorer(recall_score, average='binary')\n",
    "# f1 = make_scorer(f1_score, average='binary')\n",
    "# auprc = make_scorer(average_precision_score, average=None)\n",
    "\n",
    "# scoring = {'precision': precision, \n",
    "#                'recall': recall, \n",
    "#                'AUROC': 'roc_auc',\n",
    "#                'F1': f1}\n",
    "\n",
    "# # Outer CV\n",
    "# outer_results = cross_validate(model, X=X, y=y, cv=inner_cv, scoring=scoring)\n",
    "# outer_results\n",
    "\n",
    "# pd.DataFrame(outer_results).mean(axis=0)"
   ]
  },
  {
   "cell_type": "code",
   "execution_count": null,
   "metadata": {},
   "outputs": [],
   "source": [
    "def optimise_evaluate(X, y):\n",
    "    np.random.seed(66)\n",
    "    ratio = sum(y == 0) / sum(y == 1)\n",
    "    \n",
    "    # Hyperparemeter Optimisation using grid search (F1)\n",
    "    model = XGBClassifier()\n",
    "    n_estimators = range(100, 1000, 100)\n",
    "    max_depth = range(1, 5, 1)\n",
    "    # gamma = np.linspace(0.1, 3, 10)\n",
    "    colsample_bytree = np.linspace(0.1, 1, 10)\n",
    "    \n",
    "    param_grid = dict(max_depth=max_depth, \n",
    "                      n_estimators=n_estimators, \n",
    "                      colsample_bytree=colsample_bytree)\n",
    "                      # gamma=gamma,)\n",
    "    \n",
    "    inner_cv = StratifiedKFold(n_splits=n_splits, shuffle=True)\n",
    "    outer_cv = StratifiedKFold(n_splits=n_splits, shuffle=True)\n",
    "\n",
    "    # Inner CV\n",
    "    model = GridSearchCV(model, \n",
    "                         param_grid, \n",
    "                         scoring='f1',\n",
    "                         n_jobs=16, \n",
    "                         cv=inner_cv, \n",
    "                         verbose=1)\n",
    "\n",
    "    model.fit(X, y)\n",
    "    best_params = model.best_params_\n",
    "    print(best_params)\n",
    "\n",
    "    # Custom metrics\n",
    "    precision = make_scorer(precision_score, average='binary')\n",
    "    recall = make_scorer(recall_score, average='binary')\n",
    "    f1 = make_scorer(f1_score, average='binary')\n",
    "    auprc = make_scorer(average_precision_score, average=None)\n",
    "    \n",
    "    scoring = {'precision': precision, \n",
    "               'recall': recall, \n",
    "               'AUROC': 'roc_auc',\n",
    "               'F1': f1}\n",
    "\n",
    "    # Outer CV\n",
    "    outer_results = cross_validate(model, X=X, y=y, cv=outer_cv, scoring=scoring)\n",
    "    outer_results = pd.DataFrame(outer_results).mean()[['test_precision', 'test_recall', 'test_F1', 'test_AUROC']]\n",
    "\n",
    "    return outer_results, best_params\n"
   ]
  },
  {
   "cell_type": "code",
   "execution_count": null,
   "metadata": {
    "scrolled": true
   },
   "outputs": [],
   "source": [
    "raw_results, raw_params = optimise_evaluate(X, y)"
   ]
  },
  {
   "cell_type": "code",
   "execution_count": null,
   "metadata": {},
   "outputs": [],
   "source": [
    "raw_results"
   ]
  },
  {
   "cell_type": "code",
   "execution_count": null,
   "metadata": {},
   "outputs": [],
   "source": [
    "print(raw_params)\n",
    "res_df = pd.DataFrame(raw_results).transpose()\n",
    "res_df.to_csv(results / 'raw_results/vhap_vap.csv', index=False)"
   ]
  }
 ],
 "metadata": {
  "kernelspec": {
   "display_name": "Python 3 (ipykernel)",
   "language": "python",
   "name": "python3"
  },
  "language_info": {
   "codemirror_mode": {
    "name": "ipython",
    "version": 3
   },
   "file_extension": ".py",
   "mimetype": "text/x-python",
   "name": "python",
   "nbconvert_exporter": "python",
   "pygments_lexer": "ipython3",
   "version": "3.11.8"
  }
 },
 "nbformat": 4,
 "nbformat_minor": 4
}
